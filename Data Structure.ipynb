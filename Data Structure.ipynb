{
 "cells": [
  {
   "cell_type": "markdown",
   "id": "039d23d9-ef56-4ce0-8032-c0445f10b0f1",
   "metadata": {},
   "source": [
    "# Data Types and Structures"
   ]
  },
  {
   "cell_type": "markdown",
   "id": "03a559ed-4ffc-4067-809d-85e2fb9c5e90",
   "metadata": {},
   "source": [
    "\n",
    "\n",
    "1, What are data structures, and why are they important?\n",
    "\n",
    "-> **Data structures** are ways of organizing and storing data in a computer so that it can be accessed and modified efficiently. They define the relationship between the data and the operations that can be performed on them.\n",
    "\n",
    "### Common Types of Data Structures:\n",
    "\n",
    "1. **Arrays** – Fixed-size sequences of elements.\n",
    "2. **Linked Lists** – A series of nodes, each pointing to the next.\n",
    "3. **Stacks** – LIFO (Last In, First Out) structure.\n",
    "4. **Queues** – FIFO (First In, First Out) structure.\n",
    "5. **Trees** – Hierarchical structure (e.g., binary trees, AVL trees).\n",
    "6. **Graphs** – Nodes connected by edges, used to represent networks.\n",
    "7. **Hash Tables (Hash Maps)** – Key-value pairs for fast lookup.\n",
    "8. **Heaps** – Special trees for priority-based access.\n",
    "\n",
    "---\n",
    "\n",
    "### Why Data Structures Are Important:\n",
    "\n",
    "1. **Efficiency**: The right data structure can greatly improve the performance of algorithms, especially in terms of time and space complexity.\n",
    "2. **Organization**: They help manage and organize data logically, making code easier to understand and maintain.\n",
    "3. **Reusability**: Many programming libraries and frameworks provide built-in data structures that can be reused across applications.\n",
    "4. **Scalability**: Efficient data structures help applications handle large volumes of data and scale effectively.\n",
    "5. **Problem Solving**: Many computational problems require specific data structures for optimal solutions, such as using graphs for network routing or trees for hierarchical data.\n"
   ]
  },
  {
   "cell_type": "markdown",
   "id": "c011586b-5aee-4e2a-888d-04be56da346e",
   "metadata": {},
   "source": [
    "2.  Explain the difference between mutable and immutable data types with examples?\n",
    "\n",
    "-> In programming, particularly in Python, **mutable** and **immutable** data types refer to whether or not the contents (values) of an object can be changed after it is created.\r\n",
    "-----\r\n",
    "\r\n",
    " 🔁 **Mutable Data Types**\r\n",
    "\r\n",
    "These are data types whose contents **can be changed** without changing their identity (i.e., the object remains the same in memutput:, 2, 3, 4}\r\n",
    "   ```\r\n",
    "\r\n",
    "---\r\n",
    "\r\n",
    "### 🔒 **Immutable Data Types**\r\n",
    "\r\n",
    "These are data types whose contents **cannot be changed** after they are created. Any change will rt andassigns x to it\r\n",
    "   print(x)  # Output: 15\r\n",
    "   ```\r\n",
    "\r\n",
    "---\r\n",
    "\r\n",
    "### 🔍 Summary Table:\r\n",
    "\r\n",
    "| Type                 | Mutable? | Example              |\r\n",
    "| -------------------- | -------- | -------------------- |\r\n",
    "| `list`               | Yes      | `[1, 2, 3]`          |\r\n",
    "| `dict`               | Yes      | `{\"a\": 1}`           |\r\n",
    "| `set`                | Yes      | `{1, 2, 3}`          |\r\n",
    "| `str`                | No       | `\"hello\"`            |\r\n",
    "| `tuple`              | No       | `(1, 2, 3)` ee how this works behind the scenes with memory addresses or `id()` comparisons!\r\n"
   ]
  },
  {
   "cell_type": "code",
   "execution_count": 9,
   "id": "b5f02e79-750a-47b1-991d-330afa566148",
   "metadata": {},
   "outputs": [
    {
     "name": "stdout",
     "output_type": "stream",
     "text": [
      "MUTABLE\n",
      "[99, 2, 3]\n",
      "{'a': 100, 'b': 2}\n",
      "{1, 2, 3, 4}\n",
      "\n",
      "IMUTABLE\n",
      "HELLO\n",
      "15\n"
     ]
    }
   ],
   "source": [
    "# Examples:\n",
    "\n",
    "print('MUTABLE')\n",
    "#List\n",
    "\n",
    "my_list = [1, 2, 3]\n",
    "my_list[0] = 99  \n",
    "print(my_list)   \n",
    "   \n",
    "\n",
    "#Dictionary\n",
    "\n",
    "my_dict = {\"a\": 1, \"b\": 2}\n",
    "my_dict[\"a\"] = 100  \n",
    "print(my_dict)      \n",
    "   \n",
    "\n",
    "#Set\n",
    "\n",
    "my_set = {1, 2, 3}\n",
    "my_set.add(4)       \n",
    "print(my_set)\n",
    "\n",
    "print('\\nIMUTABLE')\n",
    "\n",
    "\n",
    "#String\n",
    "\n",
    "my_str = \"hello\"\n",
    "my_str = my_str.upper()  \n",
    "print(my_str)            \n",
    "\n",
    "\n",
    "#Tuple\n",
    "\n",
    "\n",
    "my_tuple = (1, 2, 3)\n",
    "#my_tuple[0] = 10 this will give an error\n",
    "\n",
    "\n",
    "#Integer / Float / Boolean\n",
    "\n",
    "\n",
    "x = 10\n",
    "x += 5   \n",
    "print(x) \n",
    "\n",
    "   "
   ]
  },
  {
   "cell_type": "markdown",
   "id": "07ad83c5-70c4-44bc-8c3b-ae14a4dc9ba5",
   "metadata": {},
   "source": [
    "3. What are the main differences between lists and tuples in Python?\n",
    "   \n",
    "-> In Python, **lists** and **tuples** are both sequence data types that can store a collection of items. However, they have important differences that affect how and when you should use them.\r\n",
    "\r\n",
    "---\r\n",
    "\r\n",
    "# 🔑 **Main Differences Between Lists and Tuples**\r\n",
    "\r\n",
    "| Feature         | **List**                                              | **Tuple**                                       |\r\n",
    "| --------------- | ----------------------------------------------------- | ----------------------------------------------- |\r\n",
    "| **Mutability**  | Mutable (can be changed)                              | Immutable (cannot be changed)                   |\r\n",
    "| **Syntax**      | Defined with square brackets `[]`                     | Defined with parentheses `()`                   |\r\n",
    "| **Methods**     | More built-in methods (e.g. `.append()`, `.remove()`) | Fewer methods (e.g. `.count()`, `.index()`)     |\r\n",
    "| **Performance** | Slightly slower (more flexible)                       | Faster (less overhead)                          |\r\n",
    "| **Use Case**    | Suitable for data that may change                     | Suitable for fixed data or keys in dictionaries |\r\n",
    "| **Hashable**    | No (not usable as dictionary keys)                    | Yes (if all elements are hashable)         nt(my_tuple)  # Output: (1, 2, 3)\r\n",
    "```\r\n",
    "\r\n",
    "---\r\n",
    "\r\n",
    "### ✅ **When to Use Which**\r\n",
    "\r\n",
    "* Use a **list** when:\r\n",
    "\r\n",
    "  * You need to modify (add/remove/change) the elements.\r\n",
    "  * Order of elements might change or grow over time.\r\n",
    "\r\n",
    "* Use a **tuple** when:\r\n",
    "\r\n",
    "  * The collection should not change (e.g., constants, coordinates).\r\n",
    "  * You want to use the object as a key in a dictionary or set.\r\n",
    "  * Performance isee performance comparisons or memory usage examples!\r\n"
   ]
  },
  {
   "cell_type": "code",
   "execution_count": 14,
   "id": "ce90f1ee-b4d6-45c6-81fe-abce291d8525",
   "metadata": {},
   "outputs": [
    {
     "name": "stdout",
     "output_type": "stream",
     "text": [
      " List (Mutable)\n",
      "[99, 2, 3, 4]\n",
      "\n",
      "Tuple (Immutable)\n",
      "(1, 2, 3)\n"
     ]
    }
   ],
   "source": [
    "# Examples\n",
    "\n",
    "print(' List (Mutable)')\n",
    "\n",
    "\n",
    "my_list = [1, 2, 3]\n",
    "my_list.append(4)\n",
    "my_list[0] = 99\n",
    "print(my_list)  \n",
    "\n",
    "\n",
    "print('\\nTuple (Immutable)')\n",
    "\n",
    "\n",
    "my_tuple = (1, 2, 3)\n",
    "# my_tuple[0] = 99  raise an error\n",
    "print(my_tuple)  "
   ]
  },
  {
   "cell_type": "markdown",
   "id": "17ee4cd4-c0bd-4a5a-a1d0-d042eaaf1b9b",
   "metadata": {},
   "source": [
    "4.  Describe how dictionaries store data\n",
    "\n",
    "-> In Python, dictionaries store data as key-value pairs, using a data structure called a hash table. This allows for very fast lookup, insertion, and deletion of values based on their keys.\n",
    "\n"
   ]
  },
  {
   "cell_type": "code",
   "execution_count": 15,
   "id": "85066416-214a-4ec8-ada9-df00fc0d6725",
   "metadata": {},
   "outputs": [],
   "source": [
    "'''Basic Structure\n",
    "A dictionary looks like this:'''\n",
    "\n",
    "my_dict = {\n",
    "    \"name\": \"Alice\",\n",
    "    \"age\": 30,\n",
    "    \"city\": \"New York\"\n",
    "}\n"
   ]
  },
  {
   "cell_type": "markdown",
   "id": "321316ef-61de-4d68-aa9a-f509737d7816",
   "metadata": {},
   "source": [
    "5. Why might you use a set instead of a list in Python?\n",
    "\n",
    "-> You might use a **set** instead of a **list** in Python when:\r\n",
    "\r\n",
    "---\r\n",
    "\r\n",
    "## ✅ **1. You Need Unique Elements*\r\n",
    "\r\n",
    "* **Sets automatically remove duplicates**, while lists allow,}\r\n",
    "``\r\n",
    "\r\n",
    "---\r\n",
    "\r\n",
    "### ⚡ **2. You Want Faster Membership Testing**\r\n",
    "\r\n",
    "* Sets are **much faster** than lists for checking if an item exists (average **O(uses hash table)\r\n",
    "```\r\n",
    "\r\n",
    "---\r\n",
    "\r\n",
    "### 🔄 **3. You Want to Perform Set Operations**\r\n",
    "\r\n",
    "* Sets support powerful operations like unionnt(a - b)  # Difference: {1, 2}\r\n",
    "```\r\n",
    "\r\n",
    "---\r\n",
    "\r\n",
    "### 📛 When *Not* to Use a Set:\r\n",
    "\r\n",
    "* When **order matters** — sets are unordered (before Python 3.7, even insertion order wasn’t preserved).\r\n",
    "* When **duplicates are important** — sets discard them.\r\n",
    "* When you need **index-based access** — sets don’t support indexing or slicing.\r\n",
    "\r\n",
    "---\r\n",
    "\r\n",
    "### 🧠 Summary\r\n",
    "\r\n",
    "| Use Case                            | Use `set`? | Use `list`? |\r\n",
    "| ----------------------------------- | ---------- | ----------- |\r\n",
    "| Unique values only                  | ✅ Yes      | ❌ No        |\r\n",
    "| Fast membership test (`x in`)       | ✅ Yes      | ⚠️ Slower   |\r\n",
    "| Maintain order and allow duplicates | ❌ No       | ✅ Yes       |\r\n",
    "| Need set know if you’d like a speed comparison demo or use-case examples!\r\n"
   ]
  },
  {
   "cell_type": "markdown",
   "id": "4c3c5b88-e9f3-4bd0-813e-a05569489618",
   "metadata": {},
   "source": [
    "6. What is a string in Python, and how is it different from a list?\n",
    "\n",
    "->In Python, a **string** is a **sequence of characters** used to represent text. Although strings and lists are both **sequences**, they have key differences in behavior and usage.\n",
    "\n",
    "---\n",
    "\n",
    "### 🧵 **What is a String in Python?**\n",
    "\n",
    "A **string** is an **immutable sequence** of Unicode characters.\n",
    "\n",
    "#### Example:\n",
    "\n",
    "```python\n",
    "my_string = \"Hello, world!\"\n",
    "```\n",
    "\n",
    "* You can **access characters by index**:\n",
    "\n",
    "  ```python\n",
    "  print(my_string[0])  # Output: H\n",
    "  ```\n",
    "* You can **slice**:\n",
    "\n",
    "  ```python\n",
    "  print(my_string[7:])  # Output: world!\n",
    "  ```\n",
    "\n",
    "---\n",
    "\n",
    "### 📦 **Key Differences Between Strings and Lists**\n",
    "\n",
    "| Feature              | **String**                             | **List**                                |\n",
    "| -------------------- | -------------------------------------- | --------------------------------------- |\n",
    "| **Type of Elements** | Characters only                        | Any data type (numbers, strings, etc.)  |\n",
    "| **Mutability**       | ❌ Immutable                            | ✅ Mutable                               |\n",
    "| **Syntax**           | Quoted text: `\"hello\"`                 | Square brackets: `[1, \"a\", True]`       |\n",
    "| **Methods**          | Text-specific (`.lower()`, `.split()`) | General-purpose (`.append()`, `.pop()`) |\n",
    "| **Usage**            | Text manipulation                      | Collection of any objects               |\n",
    "\n",
    "---\n",
    "\n",
    "### 🔍 **Examples**\n",
    "\n",
    "#### String (Immutable)\n",
    "\n",
    "```python\n",
    "s = \"hello\"\n",
    "# s[0] = \"H\"  # ❌ Error: strings are immutable\n",
    "print(s.upper())  # Output: \"HELLO\"\n",
    "```\n",
    "\n",
    "#### List (Mutable)\n",
    "\n",
    "```python\n",
    "l = [\"h\", \"e\", \"l\", \"l\", \"o\"]\n",
    "l[0] = \"H\"\n",
    "print(l)  # Output: ['H', 'e', 'l', 'l', 'o']\n",
    "```\n",
    "\n",
    "---\n",
    "\n",
    "### ✅ **When to Use Each**\n",
    "\n",
    "* Use a **string** when working with **text**.\n",
    "* Use a **list** when you need a **collection of items** that may change or include different data types.\n",
    "\n",
    "---\n",
    "\n"
   ]
  },
  {
   "cell_type": "markdown",
   "id": "86a6c2b5-3941-4b58-9c2a-e11f48c5ebe3",
   "metadata": {},
   "source": [
    "7.  How do tuples ensure data integrity in Python\n",
    "\n",
    "->Tuples ensure data integrity in Python primarily through their immutability. This means that once a tuple is created, its contents cannot be changed, which helps protect the data from accidental modification.\n",
    "\n"
   ]
  },
  {
   "cell_type": "markdown",
   "id": "c469c526-9d6c-4a51-933b-4c094d301fe9",
   "metadata": {},
   "source": [
    "8.  What is a hash table, and how does it relate to dictionaries in Python\n",
    "\n",
    "-> A hash table is a data structure that stores key-value pairs and allows for fast access to values based on their keys. It’s the core structure used to implement dictionaries in Python."
   ]
  },
  {
   "cell_type": "markdown",
   "id": "b7a48cb3-d566-49ab-9bc9-7a353a4d3588",
   "metadata": {},
   "source": [
    "9.  Can lists contain different data types in Python?\n",
    "\n",
    "   -> Yes, lists in Python can contain different data types. Python lists are heterogeneous, meaning you can store a mix of integers, strings, floats, booleans, other lists, or even functions and custom objects all in the same list."
   ]
  },
  {
   "cell_type": "markdown",
   "id": "ec9617f7-62f9-4604-8708-8ad5648e6847",
   "metadata": {},
   "source": [
    "10. Explain why strings are immutable in Python\n",
    "\n",
    "-> Strings are immutable in Python, meaning their contents cannot be changed after they are created. There are several important reasons for this design choice\n",
    "\n",
    "---\n",
    " 1. Safety and Predictability\n",
    "\n",
    " -If strings were mutable, changing one instance could accidentally affect others that reference the same string.\n",
    "\n",
    " -Immutability prevents unexpected side effects.\n",
    "\n",
    " 2. Hashability (Used in Dictionaries and Sets)\n",
    "\n",
    "   -Immutable objects can be hashed (i.e., have a fixed hash value).\n",
    "\n",
    "   -This makes strings usable as dictionary keys or set elements.\n",
    "\n",
    " 3. Performance Optimization\n",
    "    \n",
    "  -Python reuses common string objects (called string interning) to save memory.\n",
    "\n",
    "  -This is only safe if strings are immutable.\n",
    "\n",
    "  3. Performance Optimization\n",
    "     \n",
    "  -Python reuses common string objects (called string interning) to save memory.\n",
    "\n",
    "   -This is only safe if strings are immutable.\n",
    "\n",
    "---\n",
    "\n",
    "Strings are immutable in Python to ensure reliability, performance, and compatibility with core language features like dictionaries and memory management."
   ]
  },
  {
   "cell_type": "markdown",
   "id": "e2b9321f-01f3-4913-a044-97db734bf377",
   "metadata": {},
   "source": [
    "11. What advantages do dictionaries offer over lists for certain tasks?\n",
    "\n",
    "-> Dictionaries offer several key advantages over lists in Python for tasks involving associative or key-based data. Here's a breakdown:\n",
    "\n",
    "---\n",
    "1. Fast Lookups by Key\n",
    "   \n",
    "-Dictionaries provide O(1) average-time complexity for lookups by key.\n",
    "\n",
    "-Lists require a linear search (O(n)) to find an item by value or condition.\n",
    "\n",
    "2. Clear Mapping Between Keys and Values\n",
    "   \n",
    "-Dictionaries let you label your data with meaningful keys.\n",
    "\n",
    "-Lists only use numeric indexes, which can be less readable.\n",
    "\n",
    "3. No Need to Remember Index Positions\n",
    "   \n",
    "-With lists, you must know the exact position of the data.\n",
    "\n",
    "-With dictionaries, you just use the key name, which is more intuitive and less error-prone.\n",
    "\n",
    "4. Flexible and Dynamic\n",
    "\n",
    "-Dictionaries are ideal for storing non-uniform, dynamic data (e.g., user profiles, config settings).\n",
    "\n",
    "-Lists are better for ordered, uniform collections (e.g., a list of scores or items).\n",
    "\n",
    "5. Avoiding Duplicates with Unique Keys\n",
    "   \n",
    "-Dictionary keys must be unique, which helps automatically enforce uniqueness in data.\n",
    "\n",
    "-Lists can have duplicate items, which may lead to confusion or errors.\n",
    "\n",
    "---"
   ]
  },
  {
   "cell_type": "markdown",
   "id": "ab39e52f-e177-442b-a734-3a23ff4bd446",
   "metadata": {},
   "source": [
    "12.  Describe a scenario where using a tuple would be preferable over a list\n",
    "\n",
    "-> A tuple is preferable over a list when you want to store a fixed collection of values that should not be changed, ensuring data integrity, and allowing for safe usage in contexts like dictionary keys or set elements.\n",
    "\n",
    " Real-World Scenario: Storing Geographic Coordinates\n",
    "Imagine you're building a mapping application that stores the locations of cities as latitude/longitude pairs:\n",
    "\n",
    "Tuple: fixed, unchangeable coordinate\r\n",
    "new_york = (40.7128, -74.0060\n",
    "\n",
    "Why use a tuple here\n",
    "\n",
    "Coordinates should not change — a tuple enforces immutability.\n",
    "\n",
    "Tuples can be used as dictionary keys (lists cannot).\n",
    "\n",
    "Tuples are slightly faster and use less memory than lists.)\r\n"
   ]
  },
  {
   "cell_type": "markdown",
   "id": "7ebb7aad-ead7-4854-86e6-62dca169200e",
   "metadata": {},
   "source": [
    "13.  How do sets handle duplicate values in Python?\n",
    "\n",
    "->In Python, sets automatically eliminate duplicate values. A set is an unordered collection of unique elements, which means:\n",
    "\n",
    "If you add duplicate items to a set, only one copy will be kept.\n"
   ]
  },
  {
   "cell_type": "code",
   "execution_count": 17,
   "id": "bcba2107-d0ab-406e-ae10-105231bdc69f",
   "metadata": {},
   "outputs": [
    {
     "name": "stdout",
     "output_type": "stream",
     "text": [
      "{1, 2, 3}\n"
     ]
    }
   ],
   "source": [
    "#Example:\n",
    "\n",
    "my_set = {1, 2, 2, 3, 3, 3}\n",
    "print(my_set)  # Output: {1, 2, 3}\n",
    "\n",
    "\n"
   ]
  },
  {
   "cell_type": "markdown",
   "id": "391b2f39-1fdd-42be-9afb-2798e8ff0ed4",
   "metadata": {},
   "source": [
    "14.  How does the “in” keyword work differently for lists and dictionaries\n",
    "\n",
    "-> The in keyword in Python is used to check for membership, but it works differently depending on the data type — especially between lists and dictionaries.\n",
    "\n",
    "For Lists: Checks if a Value Is Present\n",
    "\n",
    "When used with a list, in checks if the value exists anywhere in the list.\n",
    "\n",
    "It performs a linear search — time complexity is O(n).\n",
    "\n",
    "For Dictionaries: Checks if a Key Is Present\n",
    "\n",
    "When used with a dictionary, in checks if the given item is a key (not a value).\n",
    "\n"
   ]
  },
  {
   "cell_type": "markdown",
   "id": "9040f380-796c-4a4d-8069-ee526b2003c5",
   "metadata": {},
   "source": [
    "15.  Can you modify the elements of a tuple? Explain why or why not?\n",
    "    \n",
    "-> No, you cannot modify the elements of a tuple in Python because tuples are immutable. This means once a tuple is created, its elements cannot be changed, added, or removed.\n"
   ]
  },
  {
   "cell_type": "markdown",
   "id": "b6365273-669c-4646-805a-7effbb5d9796",
   "metadata": {},
   "source": [
    "16. What is a nested dictionary, and give an example of its use case?\n",
    "\n",
    "->A nested dictionary in Python is a dictionary where some values are themselves dictionaries. This allows you to store hierarchical or structured data in a convenient way.\n",
    "\n"
   ]
  },
  {
   "cell_type": "code",
   "execution_count": 19,
   "id": "88ba0572-3f73-44d9-b5a0-c54dcd5207b0",
   "metadata": {},
   "outputs": [
    {
     "data": {
      "text/plain": [
       "'The outer dictionary maps user IDs (\"user1\", \"user2\") to inner dictionaries.\\n\\nEach inner dictionary holds details about that user.'"
      ]
     },
     "execution_count": 19,
     "metadata": {},
     "output_type": "execute_result"
    }
   ],
   "source": [
    "#Structure of a Nested Dictionary\n",
    "nested_dict = {\n",
    "    \"user1\": {\"name\": \"Alice\", \"age\": 30},\n",
    "    \"user2\": {\"name\": \"Bob\", \"age\": 25}\n",
    "}\n",
    "\n",
    "'''The outer dictionary maps user IDs (\"user1\", \"user2\") to inner dictionaries.\n",
    "\n",
    "Each inner dictionary holds details about that user.'''"
   ]
  },
  {
   "cell_type": "markdown",
   "id": "b6edd28d-4df2-49c5-b385-7737c4cef8fc",
   "metadata": {},
   "source": [
    "17. Describe the time complexity of accessing elements in a dictionary?\n",
    "\n",
    "->### **Time Complexity of Accessing Elements in a Python Dictionary**\r\n",
    "\r\n",
    "In Python, **accessing elements in a dictionary by key is extremely efficient** thanks to its underlying **hash table** implementation.\r\n",
    "\r\n",
    "---\r\n",
    "\r\n",
    "### ✅ **Average Case Time Complexity**\r\n",
    "\r\n",
    "| Operation                   | Time Complexity            |\r\n",
    "| --------------------------- | -------------------------- |\r\n",
    "| Access by key (`dict[key]`) | **O(1)** *(constant time)* |\r\n",
    "\r\n",
    "* Python computes a **hash** of the key and jumps directly to the memory location where the value is stored.\r\n",
    "* This allows very fast lookups, regardless of the dictionary’s size.\r\n",
    "\r\n",
    "---\r\n",
    "\r\n",
    "### ⚠️ **Worst Case Time Complexity**\r\n",
    "\r\n",
    "| Operation                  | Time Complexity        |\r\n",
    "| -------------------------- | ---------------------- |\r\n",
    "| Access by key (worst-case) | **O(n)** *(rare case)* |\r\n",
    "\r\n",
    "* In theory, hash **collisions** could cause many keys to map to the same bucket, resulting in a linear scan.\r\n",
    "* However, Python's hash table implementation is **designed to minimize collisi\r\n",
    "| Worst case     | O(n), but very rare |\r\n",
    "\r\n",
    "> ✅ **Accessing a value by key in a Python dictionary is typically O(1), making it one of the modeletions, or comparisons with lists and sets!\r\n"
   ]
  },
  {
   "cell_type": "code",
   "execution_count": 20,
   "id": "17d8dc24-a2b8-470f-bb08-0db8056bb125",
   "metadata": {},
   "outputs": [
    {
     "name": "stdout",
     "output_type": "stream",
     "text": [
      "30\n"
     ]
    }
   ],
   "source": [
    "\n",
    "# Example:\n",
    "data = {\"name\": \"Alice\", \"age\": 30, \"city\": \"New York\"}\n",
    "print(data[\"age\"])  # Access in O(1) time"
   ]
  },
  {
   "cell_type": "markdown",
   "id": "5800dd0e-1d71-4ad5-962a-36f4bc9b1112",
   "metadata": {},
   "source": [
    "18.  In what situations are lists preferred over dictionaries?\n",
    "\n",
    "-> Lists are preferred over dictionaries in Python when you need to work with **ordered, sequential collections** of items where the **position** (index) of each element is important and **explicit keys are not necessary**.\n",
    "\n",
    "---\n",
    "\n",
    "### ✅ **Situations Where Lists Are Better Than Dictionaries**\n",
    "\n",
    "---\n",
    "\n",
    "### 1. **When Order Matters**\n",
    "\n",
    "* Lists maintain **insertion order** and are designed for sequential access.\n",
    "* Ideal when processing data in a specific sequence.\n",
    "\n",
    "```python\n",
    "steps = [\"preheat oven\", \"mix ingredients\", \"bake\"]\n",
    "print(steps[0])  # Output: preheat oven\n",
    "```\n",
    "\n",
    "---\n",
    "\n",
    "### 2. **When You Don’t Need Key-Value Pairs**\n",
    "\n",
    "* Lists are simpler and require **only values**, not labeled keys.\n",
    "\n",
    "```python\n",
    "scores = [85, 90, 78]  # No need for keys\n",
    "```\n",
    "\n",
    "---\n",
    "\n",
    "### 3. **For Numeric or Positional Data**\n",
    "\n",
    "* Useful when you're working with arrays, sequences, time series, or ordered sets of values.\n",
    "\n",
    "```python\n",
    "temperatures = [72.1, 73.4, 70.2]\n",
    "```\n",
    "\n",
    "---\n",
    "\n",
    "### 4. **When You Need Index-Based Access**\n",
    "\n",
    "* You can retrieve or modify elements by their index:\n",
    "\n",
    "```python\n",
    "colors = [\"red\", \"green\", \"blue\"]\n",
    "colors[1] = \"yellow\"\n",
    "```\n",
    "\n",
    "---\n",
    "\n",
    "### 5. **For Iterating in Order**\n",
    "\n",
    "* Easier to loop over in the exact order of items.\n",
    "\n",
    "```python\n",
    "for color in colors:\n",
    "    print(color)\n",
    "```\n",
    "\n",
    "---\n",
    "\n",
    "### 6. **When You Need to Store Duplicates**\n",
    "\n",
    "* Lists allow duplicate values, unlike sets or dictionary keys.\n",
    "\n",
    "```python\n",
    "items = [\"apple\", \"banana\", \"apple\"]  # Allowed\n",
    "```\n",
    "\n",
    "\n",
    "> ✅ Use **lists** when you care about **order, position**, or need to store **simple sequences** of values without the complexity of keys.\n",
    "\n"
   ]
  },
  {
   "cell_type": "markdown",
   "id": "50e91ac6-f581-4fb4-a53b-abdc89a07ccd",
   "metadata": {},
   "source": [
    "19.  Why are dictionaries considered unordered, and how does that affect data retrieval?\n",
    "\n",
    "-> Why Dictionaries Were Considered Unordered (and What That Means Today)\r\n",
    "\r\n",
    "###� **Historically: Dictionaries Were Unordered**\r\n",
    "\r\n",
    "Before Python 3.7, dictionaries did **not guarantee** any order of elements. That means:\r\n",
    "\r\n",
    "* When you added key-value pairs, their **retrieval order could differ** from their insertion order.\r\n",
    "* This was due to how the **hash table** underlying dictionaries worked — it prioritized speed over order.\r\n",
    "#### 🐍 **Since Python 3.7+**\r\n",
    "\r\n",
    "* **Dictionaries preserve insertion order** as an **implementation detail** (and it's officially part of the language spec as of Python 3.7).\r\n",
    "\r\n",
    "```python\r\n",
    "d = {\"a\": 1, \"b\": 2, \"c\": 3}\r\n",
    "print(d)  # Output: {'a': 1, 'b': 2, 'c': 3}\r\n",
    "```\r\n",
    "\r\n",
    "So **technically**, dictionaries are now **ordered by insertion** in modern Python — **but**:\r\n",
    "\r\n",
    "> The order is preserved for **iteration**, not for **index-based access** (likelists).\r\n",
    "\r\n",
    "---\r\n",
    "\r\n",
    "### ⚠️ How It Affects Data Retrieval\r\n",
    "\r\n",
    "| Feature            | Effect in Dictionaries                         |\r\n",
    "| ------------------ | ---------------------------------------------- |\r\n",
    "| Key-based access   | ✅ Fast and reliable: `O(1)` lookup             |\r\n",
    "| Order of keys      | ✅ Preserved since Python 3.7 (insertion order) |\r\n",
    "| Index-based access | ❌ Not supported (use lists instead)            |\r\n",
    "| Sorting            | ❌ Not automatic — must be doe manually        |\r\n",
    "\r\n",
    "---\r\n",
    "\r\n",
    "### ✅ Retrieval Example\r\n",
    "\r\n",
    "```python\r\n",
    "info = {\"name\": \"Alice\", \"age\": 30}\r\n",
    "print(info[\"name\"])  # Works fine: direct access by key\r\n",
    "```\r\n",
    "\r\n",
    "But this will fail:\r\n",
    "\r\n",
    "```python\r\n",
    "# ❌ This raises an error — dictionaries don't support indexing by position\r\n",
    "# print(info[0])\r\n",
    "```\r\n",
    "\r\n",
    "To access items in order, you’d need to iterate:\r\n",
    "\r\n",
    "```pyth  |\r\n",
    "| Random access by position | ❌ Not allowed               |\r\n",
    "\r\n",
    "> Dictionaries are **logically unordered** in the sense that they are not designed for **position-based** access —  know if you'd like a visual example or comparison to lists and sets!\r\n"
   ]
  },
  {
   "cell_type": "markdown",
   "id": "bbd0fe07-87ef-4114-b336-486b11d62929",
   "metadata": {},
   "source": [
    "20. Explain the difference between a list and a dictionary in terms of data retrieval.\n",
    "\n",
    "-> The key difference between a **list** and a **dictionary** in Python lies in **how data is retrieved**:\r\n",
    "\r\n",
    "---\r\n",
    "\r\n",
    "# 📦 **1. Lists: Index-Based Retrieval**\r\n",
    "\r\n",
    "* You retrieve data using **integer indexes**.\r\n",
    "* The position (order) of elements matters.\r\n",
    "\r\n",
    "```python\r\n",
    "my_list = [\"apple\", \"banana\", \"cherry\"]\r\n",
    "print(my_list[1])  # Output: banana\r\n",
    "```\r\n",
    "\r\n",
    "| Feature          | List Retrieval                 |\r\n",
    "| ---------------- | ------------------------------ |\r\n",
    "| Access method    | By **index** (e.g., `list[0]`) |\r\n",
    "| Lookup type      | **Positional**                 |\r\n",
    "| Time complexity  | **O(1)** (if index is known)   |\r\n",
    "| Order maintained | ✅ Yes (insertion order)        |\r\n",
    "| Keys?            | ❌ No keys — just positions     |\r\n",
    "\r\n",
    "---\r\n",
    "\r\n",
    "### 🔑 **2. Dictionaries: Key-Based Retrieval**\r\n",
    "\r\n",
    "* You retrieve data using **unique keys**, not positions.\r\n",
    "* The order doesn't matter for access — keys map directly to values.\r\n",
    "\r\n",
    "```python\r\n",
    "my_dict = {\"fruit\": \"apple\", \"color\": \"red\"}\r\n",
    "print(my_dict[\"color\"])  # Output: red\r\n",
    "```\r\n",
    "\r\n",
    "| Feature          | Dictionary Retrieval               |\r\n",
    "| ---------------- | ---------------------------------- |\r\n",
    "| Access method    | By **key** (e.g., `dict[\"color\"]`) |\r\n",
    "| Lookup type      | **Key-based** (via hash)           |\r\n",
    "| Time complexity  | **O(1)** (average case)            |\r\n",
    "| Order maintained | ✅ Yes (since Python 3.7)           |\r\n",
    "| Keys?            | ✅ Yes — explicit and descriptive   |\r\n",
    "\r\n",
    "---\r\n",
    "\r\n",
    "### 🔄 **Quick Comparison Table**\r\n",
    "\r\n",
    "| Feature           | List                    | Dictionary                  |\r\n",
    "| ----------------- | ----------------------- | --------------------------- |\r\n",
    "| Retrieval method  | Index (e.g., `list[0]`) | Key (e.g., `dict[\"key\"]`)   |\r\n",
    "| Keys required     | ❌ No                    | ✅ Yes                       |\r\n",
    "| Maintains order   | ✅ Yes (insertion order) | ✅ Yes (from Python 3.7)     |\r\n",
    "| Allows duplicates | ✅ Yes (values)          | ✅ Yes (values, not keys)    |\r\n",
    "| Typical use case  | Ordelike to see real-world examples of choosing between the two!\r\n"
   ]
  },
  {
   "cell_type": "markdown",
   "id": "f8c79dbf-05c6-4e97-9b13-fead666b16ff",
   "metadata": {},
   "source": [
    "#  Practical Questions"
   ]
  },
  {
   "cell_type": "markdown",
   "id": "83524c22-a170-4214-ad37-f274016c25fd",
   "metadata": {},
   "source": [
    "1. Write a code to create a string with your name and print it"
   ]
  },
  {
   "cell_type": "code",
   "execution_count": 27,
   "id": "fb012cdc-95d1-465c-9f30-e1d1a076f3a0",
   "metadata": {},
   "outputs": [
    {
     "name": "stdout",
     "output_type": "stream",
     "text": [
      "My name is Shibam \n"
     ]
    }
   ],
   "source": [
    "\n",
    "name = \"Shibam \"\n",
    "\n",
    "print(\"My name is\", name)\n"
   ]
  },
  {
   "cell_type": "markdown",
   "id": "64f8a312-4e65-4eaf-b4d9-82ada2bb955c",
   "metadata": {},
   "source": [
    "2. Write a code to find the length of the string \"Hello World\""
   ]
  },
  {
   "cell_type": "code",
   "execution_count": 22,
   "id": "0cb3b5f3-73a2-4b39-ad10-d73c13d52ec9",
   "metadata": {},
   "outputs": [
    {
     "name": "stdout",
     "output_type": "stream",
     "text": [
      "Length of the string: 11\n"
     ]
    }
   ],
   "source": [
    " \n",
    "text = \"Hello World\"\n",
    "\n",
    "# Find the length using len()\n",
    "length = len(text)\n",
    "\n",
    "print(\"Length of the string:\", length)\n"
   ]
  },
  {
   "cell_type": "markdown",
   "id": "4ec7630c-b271-4bb8-b168-d8f84581b5a5",
   "metadata": {},
   "source": [
    "3.  Write a code to slice the first 3 characters from the string \"Python Programming\""
   ]
  },
  {
   "cell_type": "code",
   "execution_count": 23,
   "id": "ab30f941-c7af-4bf3-9b13-11e3f537eba6",
   "metadata": {},
   "outputs": [
    {
     "name": "stdout",
     "output_type": "stream",
     "text": [
      "First 3 characters: Pyt\n"
     ]
    }
   ],
   "source": [
    "\n",
    "text = \"Python Programming\"\n",
    "\n",
    "# Slice the first 3 characters\n",
    "slice_result = text[:3]\n",
    "\n",
    "print(\"First 3 characters:\", slice_result)\n"
   ]
  },
  {
   "cell_type": "markdown",
   "id": "932f0919-2778-42f7-884a-93dc6db42e0e",
   "metadata": {},
   "source": [
    "4. Write a code to convert the string \"hello\" to uppercase."
   ]
  },
  {
   "cell_type": "code",
   "execution_count": 25,
   "id": "6fce8512-ca4e-46b0-823f-acdaf27ba29b",
   "metadata": {},
   "outputs": [
    {
     "name": "stdout",
     "output_type": "stream",
     "text": [
      "Uppercase: HELLO\n"
     ]
    }
   ],
   "source": [
    "\n",
    "# Define the string\n",
    "text = \"hello\"\n",
    "\n",
    "# Convert to uppercase\n",
    "upper_text = text.upper()\n",
    "\n",
    "print(\"Uppercase:\", upper_text)\n"
   ]
  },
  {
   "cell_type": "markdown",
   "id": "a65d5feb-443d-47e3-8e73-8475114d09fa",
   "metadata": {},
   "source": [
    "5.  Write a code to replace the word \"apple\" with \"orange\" in the string \"I like apple\""
   ]
  },
  {
   "cell_type": "code",
   "execution_count": 26,
   "id": "30fda95d-e07b-4742-92cd-a5485b6206fe",
   "metadata": {},
   "outputs": [
    {
     "name": "stdout",
     "output_type": "stream",
     "text": [
      "Updated string: I like orange\n"
     ]
    }
   ],
   "source": [
    "\n",
    "\n",
    "# Original string\n",
    "text = \"I like apple\"\n",
    "\n",
    "# Replace \"apple\" with \"orange\"\n",
    "new_text = text.replace(\"apple\", \"orange\")\n",
    "\n",
    "print(\"Updated string:\", new_text)\n"
   ]
  },
  {
   "cell_type": "markdown",
   "id": "ae2f8e99-f935-4b84-ab76-39fb5dfa04fd",
   "metadata": {},
   "source": [
    " 6. Write a code to create a list with numbers 1 to 5 and print it"
   ]
  },
  {
   "cell_type": "code",
   "execution_count": 29,
   "id": "0c8b4149-cc10-470a-b248-ad42bac2064e",
   "metadata": {},
   "outputs": [
    {
     "name": "stdout",
     "output_type": "stream",
     "text": [
      "List of numbers: [1, 2, 3, 4, 5]\n"
     ]
    }
   ],
   "source": [
    "\n",
    "\n",
    "# Create a list with numbers 1 to 5\n",
    "numbers = [1, 2, 3, 4, 5]\n",
    "\n",
    "# Print the list\n",
    "print(\"List of numbers:\", numbers)\n"
   ]
  },
  {
   "cell_type": "markdown",
   "id": "0babf994-a08a-4336-abac-50c478765112",
   "metadata": {},
   "source": [
    "7. Write a code to append the number 10 to the list [1, 2, 3, 4]"
   ]
  },
  {
   "cell_type": "code",
   "execution_count": 30,
   "id": "95d442df-bad3-419c-82ce-ecb086621df3",
   "metadata": {},
   "outputs": [
    {
     "name": "stdout",
     "output_type": "stream",
     "text": [
      "Updated list: [1, 2, 3, 4, 10]\n"
     ]
    }
   ],
   "source": [
    "# Original list\n",
    "numbers = [1, 2, 3, 4]\n",
    "\n",
    "# Append the number 10\n",
    "numbers.append(10)\n",
    "\n",
    "print(\"Updated list:\", numbers)\n"
   ]
  },
  {
   "cell_type": "markdown",
   "id": "c674f6a5-8369-4998-8a91-0bfd61fedd42",
   "metadata": {},
   "source": [
    "8. Write a code to remove the number 3 from the list [1, 2, 3, 4, 5]"
   ]
  },
  {
   "cell_type": "code",
   "execution_count": 31,
   "id": "61423ad5-ea22-4275-a076-1cc12d37f0bf",
   "metadata": {},
   "outputs": [
    {
     "name": "stdout",
     "output_type": "stream",
     "text": [
      "Updated list: [1, 2, 4, 5]\n"
     ]
    }
   ],
   "source": [
    "# Original list\n",
    "numbers = [1, 2, 3, 4, 5]\n",
    "\n",
    "# Remove the number 3\n",
    "numbers.remove(3)\n",
    "\n",
    "print(\"Updated list:\", numbers)\n"
   ]
  },
  {
   "cell_type": "markdown",
   "id": "33459484-0381-486b-9b71-b8b17d07171a",
   "metadata": {},
   "source": [
    "9. Write a code to access the second element in the list ['a', 'b', 'c', 'd']"
   ]
  },
  {
   "cell_type": "code",
   "execution_count": 32,
   "id": "e2f57770-24ae-4671-bf24-e6d46b411564",
   "metadata": {},
   "outputs": [
    {
     "name": "stdout",
     "output_type": "stream",
     "text": [
      "Second element: b\n"
     ]
    }
   ],
   "source": [
    "# Define the list\n",
    "letters = ['a', 'b', 'c', 'd']\n",
    "\n",
    "# Access the second element (index 1)\n",
    "second_element = letters[1]\n",
    "\n",
    "print(\"Second element:\", second_element)\n"
   ]
  },
  {
   "cell_type": "markdown",
   "id": "a69a2ef5-b36d-4679-8338-6d215e4b1f6d",
   "metadata": {},
   "source": [
    "10. Write a code to reverse the list [10, 20, 30, 40, 50]."
   ]
  },
  {
   "cell_type": "code",
   "execution_count": 33,
   "id": "754a760d-6ba9-4e91-a3bb-625fbf6905dc",
   "metadata": {},
   "outputs": [
    {
     "name": "stdout",
     "output_type": "stream",
     "text": [
      "Reversed list: [50, 40, 30, 20, 10]\n"
     ]
    }
   ],
   "source": [
    "# Original list\n",
    "numbers = [10, 20, 30, 40, 50]\n",
    "\n",
    "# Reverse the list\n",
    "numbers.reverse()\n",
    "\n",
    "# Print the reversed list\n",
    "print(\"Reversed list:\", numbers)\n"
   ]
  },
  {
   "cell_type": "markdown",
   "id": "733e676e-5344-4238-96bf-792b6afcfbee",
   "metadata": {},
   "source": [
    "11. Write a code to create a tuple with the elements 100, 200, 300 and print it."
   ]
  },
  {
   "cell_type": "code",
   "execution_count": 34,
   "id": "a504d1b7-35f0-4dbb-98d2-479982b05855",
   "metadata": {},
   "outputs": [
    {
     "name": "stdout",
     "output_type": "stream",
     "text": [
      "Tuple: (100, 200, 300)\n"
     ]
    }
   ],
   "source": [
    "# Create the tuple\n",
    "my_tuple = (100, 200, 300)\n",
    "\n",
    "# Print the tuple\n",
    "print(\"Tuple:\", my_tuple)\n"
   ]
  },
  {
   "cell_type": "markdown",
   "id": "ce515624-cbb6-4ca2-aee7-323814d83799",
   "metadata": {},
   "source": [
    "12.  Write a code to access the second-to-last element of the tuple ('red', 'green', 'blue', 'yellow')."
   ]
  },
  {
   "cell_type": "code",
   "execution_count": 35,
   "id": "3ee36918-1dd4-4d06-b08f-56a54513568f",
   "metadata": {},
   "outputs": [
    {
     "name": "stdout",
     "output_type": "stream",
     "text": [
      "Second-to-last element: blue\n"
     ]
    }
   ],
   "source": [
    "# Define the tuple\n",
    "colors = ('red', 'green', 'blue', 'yellow')\n",
    "\n",
    "# Access the second-to-last element\n",
    "second_last = colors[-2]\n",
    "\n",
    "# Print the result\n",
    "print(\"Second-to-last element:\", second_last)\n"
   ]
  },
  {
   "cell_type": "markdown",
   "id": "bd509f4f-ad7c-4d31-9184-08ce6eb4cbc4",
   "metadata": {},
   "source": [
    "13.  Write a code to find the minimum number in the tuple (10, 20, 5, 15)."
   ]
  },
  {
   "cell_type": "code",
   "execution_count": 36,
   "id": "0300f86c-46a6-4cd1-b3b0-847eb0243930",
   "metadata": {},
   "outputs": [
    {
     "name": "stdout",
     "output_type": "stream",
     "text": [
      "Minimum number: 5\n"
     ]
    }
   ],
   "source": [
    "# Define the tuple\n",
    "numbers = (10, 20, 5, 15)\n",
    "\n",
    "# Find the minimum number\n",
    "min_number = min(numbers)\n",
    "\n",
    "# Print the result\n",
    "print(\"Minimum number:\", min_number)\n"
   ]
  },
  {
   "cell_type": "markdown",
   "id": "086f0db5-40bb-46a9-91e9-aa3aadea9fd1",
   "metadata": {},
   "source": [
    "14.  Write a code to find the index of the element \"cat\" in the tuple ('dog', 'cat', 'rabbit')."
   ]
  },
  {
   "cell_type": "code",
   "execution_count": 37,
   "id": "8ec73b1d-e022-42f5-9f74-4633476772ad",
   "metadata": {},
   "outputs": [
    {
     "name": "stdout",
     "output_type": "stream",
     "text": [
      "Index of 'cat': 1\n"
     ]
    }
   ],
   "source": [
    "# Define the tuple\n",
    "animals = ('dog', 'cat', 'rabbit')\n",
    "\n",
    "# Find the index of \"cat\"\n",
    "cat_index = animals.index('cat')\n",
    "\n",
    "# Print the result\n",
    "print(\"Index of 'cat':\", cat_index)\n"
   ]
  },
  {
   "cell_type": "markdown",
   "id": "434a8864-4f0b-404d-aa14-184142f4bb96",
   "metadata": {},
   "source": [
    "15.  Write a code to create a tuple containing three different fruits and check if \"kiwi\" is in it."
   ]
  },
  {
   "cell_type": "code",
   "execution_count": 38,
   "id": "55c99794-f097-4eea-8595-b9d1c0c6a72f",
   "metadata": {},
   "outputs": [
    {
     "name": "stdout",
     "output_type": "stream",
     "text": [
      "Kiwi is not in the tuple.\n"
     ]
    }
   ],
   "source": [
    "# Create a tuple with fruits\n",
    "fruits = (\"apple\", \"banana\", \"orange\")\n",
    "\n",
    "# Check if \"kiwi\" is in the tuple\n",
    "if \"kiwi\" in fruits:\n",
    "    print(\"Kiwi is in the tuple.\")\n",
    "else:\n",
    "    print(\"Kiwi is not in the tuple.\")\n",
    "\n"
   ]
  },
  {
   "cell_type": "markdown",
   "id": "1f482b5c-a1f2-41f9-b3e9-d4b917a835d7",
   "metadata": {},
   "source": [
    "16. Write a code to create a set with the elements 'a', 'b', 'c' and print it."
   ]
  },
  {
   "cell_type": "code",
   "execution_count": 39,
   "id": "e47447e9-ec64-4d81-9f9d-e69812cedc2a",
   "metadata": {},
   "outputs": [
    {
     "name": "stdout",
     "output_type": "stream",
     "text": [
      "Set: {'b', 'c', 'a'}\n"
     ]
    }
   ],
   "source": [
    "# Create a set with elements 'a', 'b', and 'c'\n",
    "my_set = {'a', 'b', 'c'}\n",
    "\n",
    "# Print the set\n",
    "print(\"Set:\", my_set)\n"
   ]
  },
  {
   "cell_type": "markdown",
   "id": "69edc4fb-de18-4a97-b947-97d09e2a627d",
   "metadata": {},
   "source": [
    "17.  Write a code to clear all elements from the set {1, 2, 3, 4, 5}."
   ]
  },
  {
   "cell_type": "code",
   "execution_count": 40,
   "id": "48559db6-ac07-4910-a184-c3ff1c9aec81",
   "metadata": {},
   "outputs": [
    {
     "name": "stdout",
     "output_type": "stream",
     "text": [
      "Cleared set: set()\n"
     ]
    }
   ],
   "source": [
    "# Define the set\n",
    "numbers = {1, 2, 3, 4, 5}\n",
    "\n",
    "# Clear all elements from the set\n",
    "numbers.clear()\n",
    "\n",
    "# Print the cleared set\n",
    "print(\"Cleared set:\", numbers)\n"
   ]
  },
  {
   "cell_type": "markdown",
   "id": "f3ba70eb-cdb1-4827-a47a-917183828907",
   "metadata": {},
   "source": [
    "18. Write a code to remove the element 4 from the set {1, 2, 3, 4}."
   ]
  },
  {
   "cell_type": "code",
   "execution_count": 41,
   "id": "f8fca6c3-c694-4c08-b866-e74213449dd8",
   "metadata": {},
   "outputs": [
    {
     "name": "stdout",
     "output_type": "stream",
     "text": [
      "Updated set: {1, 2, 3}\n"
     ]
    }
   ],
   "source": [
    "# Define the set\n",
    "numbers = {1, 2, 3, 4}\n",
    "\n",
    "# Remove the element 4\n",
    "numbers.remove(4)\n",
    "\n",
    "# Print the updated set\n",
    "print(\"Updated set:\", numbers)\n"
   ]
  },
  {
   "cell_type": "markdown",
   "id": "463dc385-4f6f-4e59-8534-0b75166ec3e8",
   "metadata": {},
   "source": [
    "19.  Write a code to find the union of two sets {1, 2, 3} and {3, 4, 5}."
   ]
  },
  {
   "cell_type": "code",
   "execution_count": 42,
   "id": "8c775ea6-cdc1-4683-9cef-3bf2f9f9cd66",
   "metadata": {},
   "outputs": [
    {
     "name": "stdout",
     "output_type": "stream",
     "text": [
      "Union of sets: {1, 2, 3, 4, 5}\n"
     ]
    }
   ],
   "source": [
    "# Define the sets\n",
    "set1 = {1, 2, 3}\n",
    "set2 = {3, 4, 5}\n",
    "\n",
    "# Find the union\n",
    "union_set = set1.union(set2)\n",
    "\n",
    "# Print the result\n",
    "print(\"Union of sets:\", union_set)\n"
   ]
  },
  {
   "cell_type": "markdown",
   "id": "dffba2ee-5206-4d23-8508-e69ab303e1b8",
   "metadata": {},
   "source": [
    "20. Write a code to find the intersection of two sets {1, 2, 3} and {2, 3, 4}."
   ]
  },
  {
   "cell_type": "code",
   "execution_count": 43,
   "id": "e43e61fe-4b96-4714-8001-54dd86c09f49",
   "metadata": {},
   "outputs": [
    {
     "name": "stdout",
     "output_type": "stream",
     "text": [
      "Intersection of sets: {2, 3}\n"
     ]
    }
   ],
   "source": [
    "# Define the sets\n",
    "set1 = {1, 2, 3}\n",
    "set2 = {2, 3, 4}\n",
    "\n",
    "# Find the intersection\n",
    "intersection_set = set1.intersection(set2)\n",
    "\n",
    "# Print the result\n",
    "print(\"Intersection of sets:\", intersection_set)\n"
   ]
  },
  {
   "cell_type": "markdown",
   "id": "cbb54eaf-1561-4be3-9750-b1a2ae16b5c2",
   "metadata": {},
   "source": [
    "21.  Write a code to create a dictionary with the keys \"name\", \"age\", and \"city\", and print it"
   ]
  },
  {
   "cell_type": "code",
   "execution_count": 44,
   "id": "3107d761-95f1-4ed3-85d9-5cb1de629d73",
   "metadata": {},
   "outputs": [
    {
     "name": "stdout",
     "output_type": "stream",
     "text": [
      "Dictionary: {'name': 'Alice', 'age': 30, 'city': 'New York'}\n"
     ]
    }
   ],
   "source": [
    "# Create the dictionary\n",
    "person = {\n",
    "    \"name\": \"Alice\",\n",
    "    \"age\": 30,\n",
    "    \"city\": \"New York\"\n",
    "}\n",
    "\n",
    "# Print the dictionary\n",
    "print(\"Dictionary:\", person)\n"
   ]
  },
  {
   "cell_type": "markdown",
   "id": "4065fbb3-5995-4dc1-bf76-43750d573013",
   "metadata": {},
   "source": [
    "22.  Write a code to add a new key-value pair \"country\": \"USA\" to the dictionary {'name': 'John', 'age': 25}."
   ]
  },
  {
   "cell_type": "code",
   "execution_count": 45,
   "id": "eef3e3ab-f285-45e1-9437-9219a28cf5ba",
   "metadata": {},
   "outputs": [
    {
     "name": "stdout",
     "output_type": "stream",
     "text": [
      "Updated dictionary: {'name': 'John', 'age': 25, 'country': 'USA'}\n"
     ]
    }
   ],
   "source": [
    "# Original dictionary\n",
    "person = {'name': 'John', 'age': 25}\n",
    "\n",
    "# Add a new key-value pair\n",
    "person['country'] = 'USA'\n",
    "\n",
    "# Print the updated dictionary\n",
    "print(\"Updated dictionary:\", person)\n"
   ]
  },
  {
   "cell_type": "markdown",
   "id": "97672048-40bd-4d02-883c-be2bfd0f0d48",
   "metadata": {},
   "source": [
    "23. Write a code to access the value associated with the key \"name\" in the dictionary {'name': 'Alice', 'age': 30}."
   ]
  },
  {
   "cell_type": "code",
   "execution_count": 46,
   "id": "e19d97b7-a3e5-44fb-9a38-a51b11366e8b",
   "metadata": {},
   "outputs": [
    {
     "name": "stdout",
     "output_type": "stream",
     "text": [
      "Name: Alice\n"
     ]
    }
   ],
   "source": [
    "# Define the dictionary\n",
    "person = {'name': 'Alice', 'age': 30}\n",
    "\n",
    "# Access the value for the key \"name\"\n",
    "name_value = person['name']\n",
    "\n",
    "# Print the result\n",
    "print(\"Name:\", name_value)\n"
   ]
  },
  {
   "cell_type": "markdown",
   "id": "2199bf39-7ca2-4e13-8c42-3260b3ec8514",
   "metadata": {},
   "source": [
    "24. Write a code to remove the key \"age\" from the dictionary {'name': 'Bob', 'age': 22, 'city': 'New York'}."
   ]
  },
  {
   "cell_type": "code",
   "execution_count": 47,
   "id": "62144f3b-1575-4512-baa6-9c587dfbfa6f",
   "metadata": {},
   "outputs": [
    {
     "name": "stdout",
     "output_type": "stream",
     "text": [
      "Updated dictionary: {'name': 'Bob', 'city': 'New York'}\n"
     ]
    }
   ],
   "source": [
    "# Define the dictionary\n",
    "person = {'name': 'Bob', 'age': 22, 'city': 'New York'}\n",
    "\n",
    "# Remove the key \"age\"\n",
    "person.pop('age')\n",
    "\n",
    "# Print the updated dictionary\n",
    "print(\"Updated dictionary:\", person)\n"
   ]
  },
  {
   "cell_type": "markdown",
   "id": "c0d23c55-d1c1-4deb-8877-d0c05a2b07bc",
   "metadata": {},
   "source": [
    "25. Write a code to check if the key \"city\" exists in the dictionary {'name': 'Alice', 'city': 'Paris'}"
   ]
  },
  {
   "cell_type": "code",
   "execution_count": 48,
   "id": "91ffed03-f887-4c5c-a72a-2f1921ef7c1a",
   "metadata": {},
   "outputs": [
    {
     "name": "stdout",
     "output_type": "stream",
     "text": [
      "Key 'city' exists in the dictionary.\n"
     ]
    }
   ],
   "source": [
    "# Define the dictionary\n",
    "person = {'name': 'Alice', 'city': 'Paris'}\n",
    "\n",
    "# Check if \"city\" key exists\n",
    "if \"city\" in person:\n",
    "    print(\"Key 'city' exists in the dictionary.\")\n",
    "else:\n",
    "    print(\"Key 'city' does not exist in the dictionary.\")\n"
   ]
  },
  {
   "cell_type": "markdown",
   "id": "c85c81a2-98b9-4274-89d9-131c2692b3b1",
   "metadata": {},
   "source": [
    "26.  Write a code to create a list, a tuple, and a dictionary, and print them all."
   ]
  },
  {
   "cell_type": "code",
   "execution_count": 50,
   "id": "78394168-72f1-48c6-9e27-2083be1c9cfc",
   "metadata": {},
   "outputs": [
    {
     "name": "stdout",
     "output_type": "stream",
     "text": [
      "List: [1, 2, 3, 4, 5]\n",
      "Tuple: ('apple', 'banana', 'cherry')\n",
      "Dictionary: {'name': 'Alice', 'age': 30, 'city': 'Paris'}\n"
     ]
    }
   ],
   "source": [
    "# Create a list\n",
    "my_list = [1, 2, 3, 4, 5]\n",
    "\n",
    "# Create a tuple\n",
    "my_tuple = ('apple', 'banana', 'cherry')\n",
    "\n",
    "# Create a dictionary\n",
    "my_dict = {'name': 'Alice', 'age': 30, 'city': 'Paris'}\n",
    "\n",
    "# Print all data structures\n",
    "print(\"List:\", my_list)\n",
    "print(\"Tuple:\", my_tuple)\n",
    "print(\"Dictionary:\", my_dict)\n"
   ]
  },
  {
   "cell_type": "markdown",
   "id": "8a11f8ec-a416-4801-887c-592a4d7600ea",
   "metadata": {},
   "source": [
    "27.  Write a code to create a list of 5 random numbers between 1 and 100, sort it in ascending order, and print the result.(replaced)"
   ]
  },
  {
   "cell_type": "code",
   "execution_count": 51,
   "id": "0f1a7edd-a277-4bcf-a5e2-49a11d1a7b99",
   "metadata": {},
   "outputs": [
    {
     "name": "stdout",
     "output_type": "stream",
     "text": [
      "Sorted random numbers: [32, 61, 76, 93, 95]\n"
     ]
    }
   ],
   "source": [
    "import random\n",
    "\n",
    "# Create a list of 5 random numbers between 1 and 100\n",
    "random_numbers = [random.randint(1, 100) for _ in range(5)]\n",
    "\n",
    "# Sort the list in ascending order\n",
    "random_numbers.sort()\n",
    "\n",
    "# Print the result\n",
    "print(\"Sorted random numbers:\", random_numbers)\n"
   ]
  },
  {
   "cell_type": "markdown",
   "id": "1eac76ac-6143-4206-8c29-da1b06dc1725",
   "metadata": {},
   "source": [
    "28.  Write a code to create a list with strings and print the element at the third index."
   ]
  },
  {
   "cell_type": "code",
   "execution_count": 52,
   "id": "774a8a86-3ae4-419e-a1e2-162333911dc6",
   "metadata": {},
   "outputs": [
    {
     "name": "stdout",
     "output_type": "stream",
     "text": [
      "Element at index 3: date\n"
     ]
    }
   ],
   "source": [
    "# Create a list with strings\n",
    "words = [\"apple\", \"banana\", \"cherry\", \"date\", \"elderberry\"]\n",
    "\n",
    "# Print the element at the third index\n",
    "print(\"Element at index 3:\", words[3])\n"
   ]
  },
  {
   "cell_type": "markdown",
   "id": "5be9f8a6-7235-499b-b819-021af2cd65a7",
   "metadata": {},
   "source": [
    "29. Write a code to combine two dictionaries into one and print the result."
   ]
  },
  {
   "cell_type": "code",
   "execution_count": 53,
   "id": "dcc0df9c-7d42-4bb9-bb34-01b9ac835799",
   "metadata": {},
   "outputs": [
    {
     "name": "stdout",
     "output_type": "stream",
     "text": [
      "Combined dictionary: {'a': 1, 'b': 2, 'c': 3, 'd': 4}\n"
     ]
    }
   ],
   "source": [
    "# Define two dictionaries\n",
    "dict1 = {'a': 1, 'b': 2}\n",
    "dict2 = {'c': 3, 'd': 4}\n",
    "\n",
    "# Combine the dictionaries\n",
    "combined_dict = {**dict1, **dict2}\n",
    "\n",
    "# Print the result\n",
    "print(\"Combined dictionary:\", combined_dict)\n"
   ]
  },
  {
   "cell_type": "markdown",
   "id": "891aea40-7466-47de-8716-dee43c919624",
   "metadata": {},
   "source": [
    "30. Write a code to convert a list of strings into a set."
   ]
  },
  {
   "cell_type": "code",
   "execution_count": 54,
   "id": "2f20f0b5-61ea-4d85-827c-4f6056a02a7b",
   "metadata": {},
   "outputs": [
    {
     "name": "stdout",
     "output_type": "stream",
     "text": [
      "Set: {'cherry', 'banana', 'apple'}\n"
     ]
    }
   ],
   "source": [
    "# Define a list of strings\n",
    "string_list = [\"apple\", \"banana\", \"cherry\", \"apple\"]\n",
    "\n",
    "# Convert the list to a set\n",
    "string_set = set(string_list)\n",
    "\n",
    "# Print the result\n",
    "print(\"Set:\", string_set)\n"
   ]
  },
  {
   "cell_type": "code",
   "execution_count": null,
   "id": "6a07565b-b30b-4650-98a3-3cc1d2cfcfbf",
   "metadata": {},
   "outputs": [],
   "source": []
  }
 ],
 "metadata": {
  "kernelspec": {
   "display_name": "Python 3 (ipykernel)",
   "language": "python",
   "name": "python3"
  },
  "language_info": {
   "codemirror_mode": {
    "name": "ipython",
    "version": 3
   },
   "file_extension": ".py",
   "mimetype": "text/x-python",
   "name": "python",
   "nbconvert_exporter": "python",
   "pygments_lexer": "ipython3",
   "version": "3.12.0"
  }
 },
 "nbformat": 4,
 "nbformat_minor": 5
}
